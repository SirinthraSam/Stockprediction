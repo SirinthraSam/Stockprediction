{
 "cells": [
  {
   "cell_type": "code",
   "execution_count": 1,
   "metadata": {
    "colab": {},
    "colab_type": "code",
    "executionInfo": {
     "elapsed": 838,
     "status": "ok",
     "timestamp": 1595134672056,
     "user": {
      "displayName": "Seyfullah Tıkıç",
      "photoUrl": "https://lh3.googleusercontent.com/a-/AOh14Gj_ApiPl2YyXIAkJrMKWdMt-xC4yUOpn0MzCVAE=s64",
      "userId": "05699170973696926455"
     },
     "user_tz": -180
    },
    "id": "k5RQQ6_qY4cA"
   },
   "outputs": [],
   "source": [
    "%matplotlib inline"
   ]
  },
  {
   "cell_type": "markdown",
   "metadata": {
    "colab_type": "text",
    "id": "kivPQhnWY4cI"
   },
   "source": [
    "\n",
    "Training a Classifier\n",
    "=====================\n",
    "\n",
    "This is it. You have seen how to define neural networks, compute loss and make\n",
    "updates to the weights of the network.\n",
    "\n",
    "Now you might be thinking,\n",
    "\n",
    "What about data?\n",
    "----------------\n",
    "\n",
    "Generally, when you have to deal with image, text, audio or video data,\n",
    "you can use standard python packages that load data into a numpy array.\n",
    "Then you can convert this array into a ``torch.*Tensor``.\n",
    "\n",
    "-  For images, packages such as Pillow, OpenCV are useful\n",
    "-  For audio, packages such as scipy and librosa\n",
    "-  For text, either raw Python or Cython based loading, or NLTK and\n",
    "   SpaCy are useful\n",
    "\n",
    "Specifically for vision, we have created a package called\n",
    "``torchvision``, that has data loaders for common datasets such as\n",
    "Imagenet, CIFAR10, MNIST, etc. and data transformers for images, viz.,\n",
    "``torchvision.datasets`` and ``torch.utils.data.DataLoader``.\n",
    "\n",
    "This provides a huge convenience and avoids writing boilerplate code.\n",
    "\n",
    "For this tutorial, we will use the CIFAR10 dataset.\n",
    "It has the classes: ‘airplane’, ‘automobile’, ‘bird’, ‘cat’, ‘deer’,\n",
    "‘dog’, ‘frog’, ‘horse’, ‘ship’, ‘truck’. The images in CIFAR-10 are of\n",
    "size 3x32x32, i.e. 3-channel color images of 32x32 pixels in size.\n",
    "\n",
    ".. figure:: /_static/img/cifar10.png\n",
    "   :alt: cifar10\n",
    "\n",
    "   cifar10\n",
    "\n",
    "\n",
    "Training an image classifier\n",
    "----------------------------\n",
    "\n",
    "We will do the following steps in order:\n",
    "\n",
    "1. Load and normalizing the CIFAR10 training and test datasets using\n",
    "   ``torchvision``\n",
    "2. Define a Convolutional Neural Network\n",
    "3. Define a loss function\n",
    "4. Train the network on the training data\n",
    "5. Test the network on the test data\n",
    "\n",
    "1. Loading and normalizing CIFAR10\n",
    "^^^^^^^^^^^^^^^^^^^^^^^^^^^^^^^^^^\n",
    "\n",
    "Using ``torchvision``, it’s extremely easy to load CIFAR10.\n",
    "\n"
   ]
  },
  {
   "cell_type": "code",
   "execution_count": 2,
   "metadata": {
    "colab": {},
    "colab_type": "code",
    "executionInfo": {
     "elapsed": 4511,
     "status": "ok",
     "timestamp": 1595134675738,
     "user": {
      "displayName": "Seyfullah Tıkıç",
      "photoUrl": "https://lh3.googleusercontent.com/a-/AOh14Gj_ApiPl2YyXIAkJrMKWdMt-xC4yUOpn0MzCVAE=s64",
      "userId": "05699170973696926455"
     },
     "user_tz": -180
    },
    "id": "fmwEeVRKY4cJ"
   },
   "outputs": [],
   "source": [
    "import torch\n",
    "import torchvision\n",
    "import torchvision.transforms as transforms"
   ]
  },
  {
   "cell_type": "markdown",
   "metadata": {
    "colab_type": "text",
    "id": "Dk43ItIRY4cQ"
   },
   "source": [
    "The output of torchvision datasets are PILImage images of range [0, 1].\n",
    "We transform them to Tensors of normalized range [-1, 1].\n",
    "<div class=\"alert alert-info\"><h4>Note</h4><p>If running on Windows and you get a BrokenPipeError, try setting\n",
    "    the num_worker of torch.utils.data.DataLoader() to 0.</p></div>\n",
    "\n"
   ]
  },
  {
   "cell_type": "code",
   "execution_count": 3,
   "metadata": {
    "colab": {
     "base_uri": "https://localhost:8080/",
     "height": 100,
     "referenced_widgets": [
      "ff6dff15b6a141909a2f71cb2457efa5",
      "4e683312c9de4b4f8a2afbe2e1453cf4",
      "0bc5077a08ea45ce98ced7cb3642892f",
      "da4f0a67daa84081853d0a9db6e78533",
      "ad0d6dc5835b45b092ad593e4c54f3a0",
      "4e93d51e27734fec965917040785df06",
      "61570b641a5245a2be39310cb318912c",
      "c765f789b9c049a5933519fe1e9b1fd9"
     ]
    },
    "colab_type": "code",
    "executionInfo": {
     "elapsed": 12409,
     "status": "ok",
     "timestamp": 1595134683668,
     "user": {
      "displayName": "Seyfullah Tıkıç",
      "photoUrl": "https://lh3.googleusercontent.com/a-/AOh14Gj_ApiPl2YyXIAkJrMKWdMt-xC4yUOpn0MzCVAE=s64",
      "userId": "05699170973696926455"
     },
     "user_tz": -180
    },
    "id": "sxef_Mk8Y4cQ",
    "outputId": "91836611-42ce-4921-96c1-bb59ef0791ca"
   },
   "outputs": [
    {
     "name": "stdout",
     "output_type": "stream",
     "text": [
      "Downloading https://www.cs.toronto.edu/~kriz/cifar-10-python.tar.gz to ./data\\cifar-10-python.tar.gz\n"
     ]
    },
    {
     "data": {
      "application/vnd.jupyter.widget-view+json": {
       "model_id": "da2ec8576f06438d8183ca95337ec89b",
       "version_major": 2,
       "version_minor": 0
      },
      "text/plain": [
       "HBox(children=(FloatProgress(value=1.0, bar_style='info', max=1.0), HTML(value='')))"
      ]
     },
     "metadata": {},
     "output_type": "display_data"
    },
    {
     "name": "stdout",
     "output_type": "stream",
     "text": [
      "Extracting ./data\\cifar-10-python.tar.gz to ./data\n",
      "Files already downloaded and verified\n"
     ]
    }
   ],
   "source": [
    "transform = transforms.Compose(\n",
    "    [transforms.ToTensor(),\n",
    "     transforms.Normalize((0.5, 0.5, 0.5), (0.5, 0.5, 0.5))])\n",
    "\n",
    "trainset = torchvision.datasets.CIFAR10(root='./data', train=True,\n",
    "                                        download=True, transform=transform)\n",
    "trainloader = torch.utils.data.DataLoader(trainset, batch_size=4,\n",
    "                                          shuffle=True, num_workers=2)\n",
    "\n",
    "testset = torchvision.datasets.CIFAR10(root='./data', train=False,\n",
    "                                       download=True, transform=transform)\n",
    "testloader = torch.utils.data.DataLoader(testset, batch_size=4,\n",
    "                                         shuffle=False, num_workers=2)\n",
    "\n",
    "classes = ('plane', 'car', 'bird', 'cat',\n",
    "           'deer', 'dog', 'frog', 'horse', 'ship', 'truck')"
   ]
  },
  {
   "cell_type": "markdown",
   "metadata": {
    "colab_type": "text",
    "id": "9YiZtb6AY4cW"
   },
   "source": [
    "Let us show some of the training images, for fun.\n",
    "\n"
   ]
  },
  {
   "cell_type": "code",
   "execution_count": 4,
   "metadata": {
    "colab": {
     "base_uri": "https://localhost:8080/",
     "height": 172
    },
    "colab_type": "code",
    "executionInfo": {
     "elapsed": 12400,
     "status": "ok",
     "timestamp": 1595134683671,
     "user": {
      "displayName": "Seyfullah Tıkıç",
      "photoUrl": "https://lh3.googleusercontent.com/a-/AOh14Gj_ApiPl2YyXIAkJrMKWdMt-xC4yUOpn0MzCVAE=s64",
      "userId": "05699170973696926455"
     },
     "user_tz": -180
    },
    "id": "A1gJOmDcY4cX",
    "outputId": "d647fa7e-7f9c-4b0e-fa38-0b7a0cfd9815"
   },
   "outputs": [
    {
     "data": {
      "image/png": "[encoded data removed]",
      "text/plain": [
       "<Figure size 432x288 with 1 Axes>"
      ]
     },
     "metadata": {
      "needs_background": "light"
     },
     "output_type": "display_data"
    },
    {
     "name": "stdout",
     "output_type": "stream",
     "text": [
      "  car  deer  frog  deer\n"
     ]
    }
   ],
   "source": [
    "import matplotlib.pyplot as plt\n",
    "import numpy as np\n",
    "\n",
    "# functions to show an image\n",
    "\n",
    "\n",
    "def imshow(img):\n",
    "    img = img / 2 + 0.5     # unnormalize\n",
    "    npimg = img.numpy()\n",
    "    plt.imshow(np.transpose(npimg, (1, 2, 0)))\n",
    "    plt.show()\n",
    "\n",
    "\n",
    "# get some random training images\n",
    "dataiter = iter(trainloader)\n",
    "images, labels = dataiter.next()\n",
    "\n",
    "# show images\n",
    "imshow(torchvision.utils.make_grid(images))\n",
    "# print labels\n",
    "print(' '.join('%5s' % classes[labels[j]] for j in range(4)))"
   ]
  },
  {
   "cell_type": "markdown",
   "metadata": {
    "colab_type": "text",
    "id": "mOXkDm8hY4cc"
   },
   "source": [
    "2. Define a Convolutional Neural Network\n",
    "^^^^^^^^^^^^^^^^^^^^^^^^^^^^^^^^^^^^^^\n",
    "Copy the neural network from the Neural Networks section before and modify it to\n",
    "take 3-channel images (instead of 1-channel images as it was defined).\n",
    "\n"
   ]
  },
  {
   "cell_type": "code",
   "execution_count": 5,
   "metadata": {
    "colab": {},
    "colab_type": "code",
    "executionInfo": {
     "elapsed": 12397,
     "status": "ok",
     "timestamp": 1595134683673,
     "user": {
      "displayName": "Seyfullah Tıkıç",
      "photoUrl": "https://lh3.googleusercontent.com/a-/AOh14Gj_ApiPl2YyXIAkJrMKWdMt-xC4yUOpn0MzCVAE=s64",
      "userId": "05699170973696926455"
     },
     "user_tz": -180
    },
    "id": "JNkPOQIYY4cc"
   },
   "outputs": [],
   "source": [
    "import torch.nn as nn\n",
    "import torch.nn.functional as F\n",
    "\n",
    "\n",
    "class Net(nn.Module):\n",
    "    def __init__(self):\n",
    "        super(Net, self).__init__()\n",
    "        self.conv1 = nn.Conv2d(3, 6, 5)\n",
    "        self.pool = nn.MaxPool2d(2, 2)\n",
    "        self.conv2 = nn.Conv2d(6, 16, 5)\n",
    "        self.fc1 = nn.Linear(16 * 5 * 5, 120)\n",
    "        self.fc2 = nn.Linear(120, 84)\n",
    "        self.fc3 = nn.Linear(84, 10)\n",
    "\n",
    "    def forward(self, x):\n",
    "        x = self.pool(F.relu(self.conv1(x)))\n",
    "        x = self.pool(F.relu(self.conv2(x)))\n",
    "        x = x.view(-1, 16 * 5 * 5)\n",
    "        x = F.relu(self.fc1(x))\n",
    "        x = F.relu(self.fc2(x))\n",
    "        x = self.fc3(x)\n",
    "        return x\n",
    "\n",
    "\n",
    "net = Net()"
   ]
  },
  {
   "cell_type": "markdown",
   "metadata": {
    "colab_type": "text",
    "id": "BuHodhHXY4ch"
   },
   "source": [
    "3. Define a Loss function and optimizer\n",
    "^^^^^^^^^^^^^^^^^^^^^^^^^^^^^^^^^^^^^^^\n",
    "Let's use a Classification Cross-Entropy loss and SGD with momentum.\n",
    "\n"
   ]
  },
  {
   "cell_type": "code",
   "execution_count": 6,
   "metadata": {
    "colab": {},
    "colab_type": "code",
    "executionInfo": {
     "elapsed": 12394,
     "status": "ok",
     "timestamp": 1595134683674,
     "user": {
      "displayName": "Seyfullah Tıkıç",
      "photoUrl": "https://lh3.googleusercontent.com/a-/AOh14Gj_ApiPl2YyXIAkJrMKWdMt-xC4yUOpn0MzCVAE=s64",
      "userId": "05699170973696926455"
     },
     "user_tz": -180
    },
    "id": "P8JwDPZAY4ci"
   },
   "outputs": [],
   "source": [
    "import torch.optim as optim\n",
    "\n",
    "criterion = nn.CrossEntropyLoss()\n",
    "optimizer = optim.SGD(net.parameters(), lr=0.001, momentum=0.9)"
   ]
  },
  {
   "cell_type": "markdown",
   "metadata": {
    "colab_type": "text",
    "id": "DLbl_dJsY4co"
   },
   "source": [
    "4. Train the network\n",
    "^^^^^^^^^^^^^^^^^^^^\n",
    "\n",
    "This is when things start to get interesting.\n",
    "We simply have to loop over our data iterator, and feed the inputs to the\n",
    "network and optimize.\n",
    "\n"
   ]
  },
  {
   "cell_type": "code",
   "execution_count": 7,
   "metadata": {
    "colab": {
     "base_uri": "https://localhost:8080/",
     "height": 238
    },
    "colab_type": "code",
    "executionInfo": {
     "elapsed": 129089,
     "status": "ok",
     "timestamp": 1595134800383,
     "user": {
      "displayName": "Seyfullah Tıkıç",
      "photoUrl": "https://lh3.googleusercontent.com/a-/AOh14Gj_ApiPl2YyXIAkJrMKWdMt-xC4yUOpn0MzCVAE=s64",
      "userId": "05699170973696926455"
     },
     "user_tz": -180
    },
    "id": "mX0FFz65Y4cq",
    "outputId": "6c078512-3337-448d-c99d-6fb102b573c5"
   },
   "outputs": [
    {
     "name": "stdout",
     "output_type": "stream",
     "text": [
      "[1,  2000] loss: 2.181\n",
      "[1,  4000] loss: 1.890\n",
      "[1,  6000] loss: 1.695\n",
      "[1,  8000] loss: 1.611\n",
      "[1, 10000] loss: 1.556\n",
      "[1, 12000] loss: 1.500\n",
      "[2,  2000] loss: 1.434\n",
      "[2,  4000] loss: 1.384\n",
      "[2,  6000] loss: 1.359\n",
      "[2,  8000] loss: 1.331\n",
      "[2, 10000] loss: 1.305\n",
      "[2, 12000] loss: 1.289\n",
      "Finished Training\n"
     ]
    }
   ],
   "source": [
    "for epoch in range(2):  # loop over the dataset multiple times\n",
    "\n",
    "    running_loss = 0.0\n",
    "    for i, data in enumerate(trainloader, 0):\n",
    "        # get the inputs; data is a list of [inputs, labels]\n",
    "        inputs, labels = data\n",
    "\n",
    "        # zero the parameter gradients\n",
    "        optimizer.zero_grad()\n",
    "\n",
    "        # forward + backward + optimize\n",
    "        outputs = net(inputs)\n",
    "        loss = criterion(outputs, labels)\n",
    "        loss.backward()\n",
    "        optimizer.step()\n",
    "\n",
    "        # print statistics\n",
    "        running_loss += loss.item()\n",
    "        if i % 2000 == 1999:    # print every 2000 mini-batches\n",
    "            print('[%d, %5d] loss: %.3f' %\n",
    "                  (epoch + 1, i + 1, running_loss / 2000))\n",
    "            running_loss = 0.0\n",
    "\n",
    "print('Finished Training')"
   ]
  },
  {
   "cell_type": "markdown",
   "metadata": {
    "colab_type": "text",
    "id": "7VzGfWkGY4cu"
   },
   "source": [
    "Let's quickly save our trained model:\n",
    "\n"
   ]
  },
  {
   "cell_type": "code",
   "execution_count": 8,
   "metadata": {
    "colab": {},
    "colab_type": "code",
    "executionInfo": {
     "elapsed": 129094,
     "status": "ok",
     "timestamp": 1595134800392,
     "user": {
      "displayName": "Seyfullah Tıkıç",
      "photoUrl": "https://lh3.googleusercontent.com/a-/AOh14Gj_ApiPl2YyXIAkJrMKWdMt-xC4yUOpn0MzCVAE=s64",
      "userId": "05699170973696926455"
     },
     "user_tz": -180
    },
    "id": "Kg0fHQjLY4cv"
   },
   "outputs": [],
   "source": [
    "PATH = './cifar_net.pth'\n",
    "torch.save(net.state_dict(), PATH)"
   ]
  },
  {
   "cell_type": "markdown",
   "metadata": {
    "colab_type": "text",
    "id": "41so1h2dY4cz"
   },
   "source": [
    "See `here <https://pytorch.org/docs/stable/notes/serialization.html>`_\n",
    "for more details on saving PyTorch models.\n",
    "\n",
    "5. Test the network on the test data\n",
    "^^^^^^^^^^^^^^^^^^^^^^^^^^^^^^^^^^^^\n",
    "\n",
    "We have trained the network for 2 passes over the training dataset.\n",
    "But we need to check if the network has learnt anything at all.\n",
    "\n",
    "We will check this by predicting the class label that the neural network\n",
    "outputs, and checking it against the ground-truth. If the prediction is\n",
    "correct, we add the sample to the list of correct predictions.\n",
    "\n",
    "Okay, first step. Let us display an image from the test set to get familiar.\n",
    "\n"
   ]
  },
  {
   "cell_type": "code",
   "execution_count": 9,
   "metadata": {
    "colab": {
     "base_uri": "https://localhost:8080/",
     "height": 155
    },
    "colab_type": "code",
    "executionInfo": {
     "elapsed": 129079,
     "status": "ok",
     "timestamp": 1595134800394,
     "user": {
      "displayName": "Seyfullah Tıkıç",
      "photoUrl": "https://lh3.googleusercontent.com/a-/AOh14Gj_ApiPl2YyXIAkJrMKWdMt-xC4yUOpn0MzCVAE=s64",
      "userId": "05699170973696926455"
     },
     "user_tz": -180
    },
    "id": "zdxgsSA6Y4c0",
    "outputId": "75ff4c03-f3d9-4c7c-f8af-3d20b1581806"
   },
   "outputs": [
    {
     "data": {
      "image/png": "[encoded data removed]",
      "text/plain": [
       "<Figure size 432x288 with 1 Axes>"
      ]
     },
     "metadata": {
      "needs_background": "light"
     },
     "output_type": "display_data"
    },
    {
     "name": "stdout",
     "output_type": "stream",
     "text": [
      "GroundTruth:    cat  ship  ship plane\n"
     ]
    }
   ],
   "source": [
    "dataiter = iter(testloader)\n",
    "images, labels = dataiter.next()\n",
    "\n",
    "# print images\n",
    "imshow(torchvision.utils.make_grid(images))\n",
    "print('GroundTruth: ', ' '.join('%5s' % classes[labels[j]] for j in range(4)))"
   ]
  },
  {
   "cell_type": "markdown",
   "metadata": {
    "colab_type": "text",
    "id": "EDczSq-3Y4c5"
   },
   "source": [
    "Next, let's load back in our saved model (note: saving and re-loading the model\n",
    "wasn't necessary here, we only did it to illustrate how to do so):\n",
    "\n"
   ]
  },
  {
   "cell_type": "code",
   "execution_count": 10,
   "metadata": {
    "colab": {
     "base_uri": "https://localhost:8080/",
     "height": 34
    },
    "colab_type": "code",
    "executionInfo": {
     "elapsed": 129067,
     "status": "ok",
     "timestamp": 1595134800395,
     "user": {
      "displayName": "Seyfullah Tıkıç",
      "photoUrl": "https://lh3.googleusercontent.com/a-/AOh14Gj_ApiPl2YyXIAkJrMKWdMt-xC4yUOpn0MzCVAE=s64",
      "userId": "05699170973696926455"
     },
     "user_tz": -180
    },
    "id": "m0wi5J8_Y4c6",
    "outputId": "2bc4f211-d1e6-48da-81ad-94b6e5598147"
   },
   "outputs": [
    {
     "data": {
      "text/plain": [
       "<All keys matched successfully>"
      ]
     },
     "execution_count": 10,
     "metadata": {},
     "output_type": "execute_result"
    }
   ],
   "source": [
    "net = Net()\n",
    "net.load_state_dict(torch.load(PATH))"
   ]
  },
  {
   "cell_type": "markdown",
   "metadata": {
    "colab_type": "text",
    "id": "L1tBSinsY4c-"
   },
   "source": [
    "Okay, now let us see what the neural network thinks these examples above are:\n",
    "\n"
   ]
  },
  {
   "cell_type": "code",
   "execution_count": 11,
   "metadata": {
    "colab": {},
    "colab_type": "code",
    "executionInfo": {
     "elapsed": 129064,
     "status": "ok",
     "timestamp": 1595134800397,
     "user": {
      "displayName": "Seyfullah Tıkıç",
      "photoUrl": "https://lh3.googleusercontent.com/a-/AOh14Gj_ApiPl2YyXIAkJrMKWdMt-xC4yUOpn0MzCVAE=s64",
      "userId": "05699170973696926455"
     },
     "user_tz": -180
    },
    "id": "AZ8vCiFUY4c_"
   },
   "outputs": [],
   "source": [
    "outputs = net(images)"
   ]
  },
  {
   "cell_type": "markdown",
   "metadata": {
    "colab_type": "text",
    "id": "ucziddWDY4dE"
   },
   "source": [
    "The outputs are energies for the 10 classes.\n",
    "The higher the energy for a class, the more the network\n",
    "thinks that the image is of the particular class.\n",
    "So, let's get the index of the highest energy:\n",
    "\n"
   ]
  },
  {
   "cell_type": "code",
   "execution_count": 12,
   "metadata": {
    "colab": {
     "base_uri": "https://localhost:8080/",
     "height": 34
    },
    "colab_type": "code",
    "executionInfo": {
     "elapsed": 129050,
     "status": "ok",
     "timestamp": 1595134800398,
     "user": {
      "displayName": "Seyfullah Tıkıç",
      "photoUrl": "https://lh3.googleusercontent.com/a-/AOh14Gj_ApiPl2YyXIAkJrMKWdMt-xC4yUOpn0MzCVAE=s64",
      "userId": "05699170973696926455"
     },
     "user_tz": -180
    },
    "id": "8TtjrEFfY4dF",
    "outputId": "a8f886ec-1385-4ee9-c1b8-90a0ee20b687"
   },
   "outputs": [
    {
     "name": "stdout",
     "output_type": "stream",
     "text": [
      "Predicted:    cat   car  ship  ship\n"
     ]
    }
   ],
   "source": [
    "_, predicted = torch.max(outputs, 1)\n",
    "\n",
    "print('Predicted: ', ' '.join('%5s' % classes[predicted[j]]\n",
    "                              for j in range(4)))"
   ]
  },
  {
   "cell_type": "markdown",
   "metadata": {
    "colab_type": "text",
    "id": "6iqnTUdzY4dJ"
   },
   "source": [
    "The results seem pretty good.\n",
    "\n",
    "Let us look at how the network performs on the whole dataset.\n",
    "\n"
   ]
  },
  {
   "cell_type": "code",
   "execution_count": 13,
   "metadata": {
    "colab": {
     "base_uri": "https://localhost:8080/",
     "height": 34
    },
    "colab_type": "code",
    "executionInfo": {
     "elapsed": 135581,
     "status": "ok",
     "timestamp": 1595134806944,
     "user": {
      "displayName": "Seyfullah Tıkıç",
      "photoUrl": "https://lh3.googleusercontent.com/a-/AOh14Gj_ApiPl2YyXIAkJrMKWdMt-xC4yUOpn0MzCVAE=s64",
      "userId": "05699170973696926455"
     },
     "user_tz": -180
    },
    "id": "B_B6SaJKY4dK",
    "outputId": "185a45ab-d685-439f-9fed-99d010ab18c2"
   },
   "outputs": [
    {
     "name": "stdout",
     "output_type": "stream",
     "text": [
      "Accuracy of the network on the 10000 test images: 54 %\n"
     ]
    }
   ],
   "source": [
    "correct = 0\n",
    "total = 0\n",
    "with torch.no_grad():\n",
    "    for data in testloader:\n",
    "        images, labels = data\n",
    "        outputs = net(images)\n",
    "        _, predicted = torch.max(outputs.data, 1)\n",
    "        total += labels.size(0)\n",
    "        correct += (predicted == labels).sum().item()\n",
    "\n",
    "print('Accuracy of the network on the 10000 test images: %d %%' % (\n",
    "    100 * correct / total))"
   ]
  },
  {
   "cell_type": "markdown",
   "metadata": {
    "colab_type": "text",
    "id": "PZPsz43nY4dP"
   },
   "source": [
    "That looks way better than chance, which is 10% accuracy (randomly picking\n",
    "a class out of 10 classes).\n",
    "Seems like the network learnt something.\n",
    "\n",
    "Hmmm, what are the classes that performed well, and the classes that did\n",
    "not perform well:\n",
    "\n"
   ]
  },
  {
   "cell_type": "code",
   "execution_count": 14,
   "metadata": {
    "colab": {
     "base_uri": "https://localhost:8080/",
     "height": 187
    },
    "colab_type": "code",
    "executionInfo": {
     "elapsed": 142458,
     "status": "ok",
     "timestamp": 1595134813837,
     "user": {
      "displayName": "Seyfullah Tıkıç",
      "photoUrl": "https://lh3.googleusercontent.com/a-/AOh14Gj_ApiPl2YyXIAkJrMKWdMt-xC4yUOpn0MzCVAE=s64",
      "userId": "05699170973696926455"
     },
     "user_tz": -180
    },
    "id": "T3V1BGncY4dQ",
    "outputId": "07981dfa-73b5-491e-e1a0-0be91c51c14c"
   },
   "outputs": [
    {
     "name": "stdout",
     "output_type": "stream",
     "text": [
      "Accuracy of plane : 73 %\n",
      "Accuracy of   car : 68 %\n",
      "Accuracy of  bird : 18 %\n",
      "Accuracy of   cat : 31 %\n",
      "Accuracy of  deer : 51 %\n",
      "Accuracy of   dog : 51 %\n",
      "Accuracy of  frog : 57 %\n",
      "Accuracy of horse : 72 %\n",
      "Accuracy of  ship : 57 %\n",
      "Accuracy of truck : 62 %\n"
     ]
    }
   ],
   "source": [
    "class_correct = list(0. for i in range(10))\n",
    "class_total = list(0. for i in range(10))\n",
    "with torch.no_grad():\n",
    "    for data in testloader:\n",
    "        images, labels = data\n",
    "        outputs = net(images)\n",
    "        _, predicted = torch.max(outputs, 1)\n",
    "        c = (predicted == labels).squeeze()\n",
    "        for i in range(4):\n",
    "            label = labels[i]\n",
    "            class_correct[label] += c[i].item()\n",
    "            class_total[label] += 1\n",
    "\n",
    "\n",
    "for i in range(10):\n",
    "    print('Accuracy of %5s : %2d %%' % (\n",
    "        classes[i], 100 * class_correct[i] / class_total[i]))"
   ]
  },
  {
   "cell_type": "markdown",
   "metadata": {
    "colab_type": "text",
    "id": "R7Y0Yvg3Y4dU"
   },
   "source": [
    "Okay, so what next?\n",
    "\n",
    "How do we run these neural networks on the GPU?\n",
    "\n",
    "Training on GPU\n",
    "----------------\n",
    "Just like how you transfer a Tensor onto the GPU, you transfer the neural\n",
    "net onto the GPU.\n",
    "\n",
    "Let's first define our device as the first visible cuda device if we have\n",
    "CUDA available:\n",
    "\n"
   ]
  },
  {
   "cell_type": "code",
   "execution_count": 15,
   "metadata": {
    "colab": {
     "base_uri": "https://localhost:8080/",
     "height": 34
    },
    "colab_type": "code",
    "executionInfo": {
     "elapsed": 142445,
     "status": "ok",
     "timestamp": 1595134813838,
     "user": {
      "displayName": "Seyfullah Tıkıç",
      "photoUrl": "https://lh3.googleusercontent.com/a-/AOh14Gj_ApiPl2YyXIAkJrMKWdMt-xC4yUOpn0MzCVAE=s64",
      "userId": "05699170973696926455"
     },
     "user_tz": -180
    },
    "id": "4sN_cN1wY4dV",
    "outputId": "0a47f205-6fde-4654-84b9-2150f20b6503"
   },
   "outputs": [
    {
     "name": "stdout",
     "output_type": "stream",
     "text": [
      "cpu\n"
     ]
    }
   ],
   "source": [
    "device = torch.device(\"cuda:0\" if torch.cuda.is_available() else \"cpu\")\n",
    "\n",
    "# Assuming that we are on a CUDA machine, this should print a CUDA device:\n",
    "\n",
    "print(device)"
   ]
  },
  {
   "cell_type": "markdown",
   "metadata": {
    "colab_type": "text",
    "id": "OkbEKn3nY4da"
   },
   "source": [
    "The rest of this section assumes that ``device`` is a CUDA device.\n",
    "\n",
    "Then these methods will recursively go over all modules and convert their\n",
    "parameters and buffers to CUDA tensors:\n",
    "\n",
    ".. code:: python\n",
    "\n",
    "    net.to(device)\n",
    "\n",
    "\n",
    "Remember that you will have to send the inputs and targets at every step\n",
    "to the GPU too:\n",
    "\n",
    ".. code:: python\n",
    "\n",
    "        inputs, labels = data[0].to(device), data[1].to(device)\n",
    "\n",
    "Why dont I notice MASSIVE speedup compared to CPU? Because your network\n",
    "is really small.\n",
    "\n",
    "**Exercise:** Try increasing the width of your network (argument 2 of\n",
    "the first ``nn.Conv2d``, and argument 1 of the second ``nn.Conv2d`` –\n",
    "they need to be the same number), see what kind of speedup you get.\n",
    "\n",
    "**Goals achieved**:\n",
    "\n",
    "- Understanding PyTorch's Tensor library and neural networks at a high level.\n",
    "- Train a small neural network to classify images\n",
    "\n",
    "Training on multiple GPUs\n",
    "-------------------------\n",
    "If you want to see even more MASSIVE speedup using all of your GPUs,\n",
    "please check out :doc:`data_parallel_tutorial`.\n",
    "\n",
    "Where do I go next?\n",
    "-------------------\n",
    "\n",
    "-  :doc:`Train neural nets to play video games </intermediate/reinforcement_q_learning>`\n",
    "-  `Train a state-of-the-art ResNet network on imagenet`_\n",
    "-  `Train a face generator using Generative Adversarial Networks`_\n",
    "-  `Train a word-level language model using Recurrent LSTM networks`_\n",
    "-  `More examples`_\n",
    "-  `More tutorials`_\n",
    "-  `Discuss PyTorch on the Forums`_\n",
    "-  `Chat with other users on Slack`_\n",
    "\n",
    "\n"
   ]
  },
  {
   "cell_type": "code",
   "execution_count": 16,
   "metadata": {
    "colab": {
     "base_uri": "https://localhost:8080/",
     "height": 153
    },
    "colab_type": "code",
    "executionInfo": {
     "elapsed": 151730,
     "status": "ok",
     "timestamp": 1595134823127,
     "user": {
      "displayName": "Seyfullah Tıkıç",
      "photoUrl": "https://lh3.googleusercontent.com/a-/AOh14Gj_ApiPl2YyXIAkJrMKWdMt-xC4yUOpn0MzCVAE=s64",
      "userId": "05699170973696926455"
     },
     "user_tz": -180
    },
    "id": "EAecLcAxbnYM",
    "outputId": "3ea95d97-dff9-46b2-e952-8d88243151de"
   },
   "outputs": [
    {
     "data": {
      "text/plain": [
       "Net(\n",
       "  (conv1): Conv2d(3, 6, kernel_size=(5, 5), stride=(1, 1))\n",
       "  (pool): MaxPool2d(kernel_size=2, stride=2, padding=0, dilation=1, ceil_mode=False)\n",
       "  (conv2): Conv2d(6, 16, kernel_size=(5, 5), stride=(1, 1))\n",
       "  (fc1): Linear(in_features=400, out_features=120, bias=True)\n",
       "  (fc2): Linear(in_features=120, out_features=84, bias=True)\n",
       "  (fc3): Linear(in_features=84, out_features=10, bias=True)\n",
       ")"
      ]
     },
     "execution_count": 16,
     "metadata": {},
     "output_type": "execute_result"
    }
   ],
   "source": [
    "net.to(device)\n"
   ]
  },
  {
   "cell_type": "code",
   "execution_count": 17,
   "metadata": {
    "colab": {},
    "colab_type": "code",
    "executionInfo": {
     "elapsed": 151726,
     "status": "ok",
     "timestamp": 1595134823129,
     "user": {
      "displayName": "Seyfullah Tıkıç",
      "photoUrl": "https://lh3.googleusercontent.com/a-/AOh14Gj_ApiPl2YyXIAkJrMKWdMt-xC4yUOpn0MzCVAE=s64",
      "userId": "05699170973696926455"
     },
     "user_tz": -180
    },
    "id": "-JFCfUUcY4db"
   },
   "outputs": [],
   "source": [
    "    inputs, labels = data[0].to(device), data[1].to(device)\n"
   ]
  },
  {
   "cell_type": "code",
   "execution_count": 18,
   "metadata": {},
   "outputs": [
    {
     "data": {
      "text/plain": [
       "tensor([[[[-0.3647, -0.2863, -0.2314,  ..., -0.3569, -0.3333, -0.2627],\n",
       "          [-0.3255, -0.2235, -0.1686,  ..., -0.1529, -0.0980, -0.0431],\n",
       "          [-0.2392, -0.1843, -0.1373,  ..., -0.3412, -0.1451, -0.0196],\n",
       "          ...,\n",
       "          [ 0.2784,  0.2863,  0.0902,  ...,  0.1765,  0.0980,  0.1686],\n",
       "          [ 0.2549,  0.3333,  0.1373,  ...,  0.2549,  0.1922, -0.0745],\n",
       "          [-0.0588, -0.0902,  0.0667,  ...,  0.2157,  0.3412,  0.3098]],\n",
       "\n",
       "         [[-0.5529, -0.4588, -0.4118,  ..., -0.2627, -0.2706, -0.2784],\n",
       "          [-0.4824, -0.4353, -0.3569,  ..., -0.2471, -0.2549, -0.2549],\n",
       "          [-0.4275, -0.3804, -0.3490,  ..., -0.2627, -0.2549, -0.2392],\n",
       "          ...,\n",
       "          [ 0.3961,  0.2471,  0.0431,  ...,  0.0980, -0.0353,  0.1686],\n",
       "          [ 0.5373,  0.4824,  0.0824,  ...,  0.2706,  0.1843,  0.0118],\n",
       "          [ 0.3020,  0.1922,  0.2941,  ...,  0.0902,  0.3098,  0.2863]],\n",
       "\n",
       "         [[-0.6627, -0.5843, -0.5059,  ..., -0.0902, -0.1137, -0.2000],\n",
       "          [-0.5765, -0.5451, -0.4902,  ..., -0.2627, -0.3255, -0.3725],\n",
       "          [-0.5373, -0.4902, -0.4588,  ..., -0.0824, -0.2863, -0.3882],\n",
       "          ...,\n",
       "          [ 0.4667,  0.1608,  0.0039,  ...,  0.0510, -0.1137,  0.0824],\n",
       "          [ 0.6941,  0.5843,  0.0196,  ...,  0.3098,  0.1922,  0.1137],\n",
       "          [ 0.5608,  0.4431,  0.4275,  ...,  0.0118,  0.1529,  0.2549]]],\n",
       "\n",
       "\n",
       "        [[[-0.8431, -0.8510, -0.8824,  ..., -0.9216, -0.9059, -0.8980],\n",
       "          [-0.8353, -0.8431, -0.8588,  ..., -0.9216, -0.9216, -0.9059],\n",
       "          [-0.8353, -0.8353, -0.8431,  ..., -0.9059, -0.9059, -0.8980],\n",
       "          ...,\n",
       "          [-0.7412, -0.7333, -0.7333,  ..., -0.7804, -0.7725, -0.8196],\n",
       "          [-0.7412, -0.7333, -0.7333,  ..., -0.7882, -0.7882, -0.8039],\n",
       "          [-0.7569, -0.7490, -0.7412,  ..., -0.8118, -0.7961, -0.8039]],\n",
       "\n",
       "         [[-0.8824, -0.8902, -0.8902,  ..., -0.9294, -0.9137, -0.9059],\n",
       "          [-0.8745, -0.8745, -0.8667,  ..., -0.9294, -0.9294, -0.9137],\n",
       "          [-0.8745, -0.8667, -0.8588,  ..., -0.9137, -0.9137, -0.9059],\n",
       "          ...,\n",
       "          [-0.8039, -0.7961, -0.7961,  ..., -0.8039, -0.8039, -0.8431],\n",
       "          [-0.8039, -0.7961, -0.7961,  ..., -0.8118, -0.8118, -0.8275],\n",
       "          [-0.8196, -0.8118, -0.8039,  ..., -0.8196, -0.8196, -0.8431]],\n",
       "\n",
       "         [[-0.9059, -0.9137, -0.9137,  ..., -0.9451, -0.9294, -0.9216],\n",
       "          [-0.8980, -0.8980, -0.9059,  ..., -0.9451, -0.9451, -0.9294],\n",
       "          [-0.8980, -0.9059, -0.9137,  ..., -0.9294, -0.9294, -0.9216],\n",
       "          ...,\n",
       "          [-0.8980, -0.8824, -0.8824,  ..., -0.5922, -0.5451, -0.6706],\n",
       "          [-0.8902, -0.8824, -0.8824,  ..., -0.5922, -0.5608, -0.6314],\n",
       "          [-0.9059, -0.8980, -0.8902,  ..., -0.6078, -0.5843, -0.6314]]],\n",
       "\n",
       "\n",
       "        [[[-0.8039, -0.8824, -0.8196,  ..., -0.5216, -0.2784, -0.4118],\n",
       "          [-0.9059, -0.8431, -0.8118,  ..., -0.0980,  0.1686, -0.1843],\n",
       "          [-0.9059, -0.8824, -0.7333,  ...,  0.2078,  0.2314, -0.0902],\n",
       "          ...,\n",
       "          [-0.2157, -0.1922, -0.1843,  ..., -0.2392, -0.2314, -0.2863],\n",
       "          [-0.1922, -0.1843, -0.1608,  ..., -0.2078, -0.2235, -0.2784],\n",
       "          [-0.2549, -0.2549, -0.2078,  ..., -0.2706, -0.2549, -0.2784]],\n",
       "\n",
       "         [[-0.6863, -0.7176, -0.6784,  ..., -0.3569, -0.1137, -0.3020],\n",
       "          [-0.8039, -0.7098, -0.7176,  ...,  0.0510,  0.3176, -0.0824],\n",
       "          [-0.8039, -0.7725, -0.6863,  ...,  0.3490,  0.3725,  0.0118],\n",
       "          ...,\n",
       "          [ 0.0118,  0.0353,  0.0510,  ...,  0.0039, -0.0118, -0.0510],\n",
       "          [ 0.0353,  0.0275,  0.0588,  ...,  0.0353, -0.0039, -0.0510],\n",
       "          [-0.0118, -0.0353,  0.0039,  ..., -0.0275, -0.0353, -0.0588]],\n",
       "\n",
       "         [[-0.9059, -0.9765, -0.8588,  ..., -0.3882, -0.1216, -0.2784],\n",
       "          [-0.9529, -0.9451, -0.8824,  ...,  0.0824,  0.3882,  0.0275],\n",
       "          [-0.9137, -0.9529, -0.8118,  ...,  0.4275,  0.5059,  0.1843],\n",
       "          ...,\n",
       "          [-0.3647, -0.3412, -0.3255,  ..., -0.3412, -0.3412, -0.3804],\n",
       "          [-0.3490, -0.3490, -0.3176,  ..., -0.3176, -0.3412, -0.3804],\n",
       "          [-0.3882, -0.4039, -0.3647,  ..., -0.3725, -0.3647, -0.3725]]],\n",
       "\n",
       "\n",
       "        [[[-0.4275, -0.2314, -0.2235,  ...,  0.0588,  0.0588,  0.5922],\n",
       "          [-0.4588, -0.3412, -0.4667,  ..., -0.3333, -0.4431, -0.0588],\n",
       "          [-0.4588, -0.2941, -0.5137,  ..., -0.4196, -0.5843, -0.5137],\n",
       "          ...,\n",
       "          [-0.0353,  0.0353,  0.0118,  ..., -0.1529, -0.5137, -0.7882],\n",
       "          [-0.0980, -0.0353,  0.0118,  ..., -0.0980, -0.4824, -0.7882],\n",
       "          [-0.0902, -0.0510,  0.0118,  ..., -0.0902, -0.4667, -0.7882]],\n",
       "\n",
       "         [[-0.3882, -0.1922, -0.1686,  ...,  0.1765,  0.1686,  0.6863],\n",
       "          [-0.4275, -0.3020, -0.4118,  ..., -0.2549, -0.3569,  0.0431],\n",
       "          [-0.4275, -0.2549, -0.4431,  ..., -0.3647, -0.5137, -0.4196],\n",
       "          ...,\n",
       "          [ 0.0039,  0.0353,  0.0039,  ..., -0.1608, -0.5294, -0.7882],\n",
       "          [-0.0510, -0.0275, -0.0118,  ..., -0.0902, -0.4902, -0.7882],\n",
       "          [-0.0588, -0.0431,  0.0039,  ..., -0.0980, -0.4902, -0.7961]],\n",
       "\n",
       "         [[-0.4118, -0.1137, -0.1059,  ...,  0.1922,  0.2078,  0.7490],\n",
       "          [-0.4510, -0.2392, -0.3647,  ..., -0.3020, -0.3725,  0.0588],\n",
       "          [-0.4510, -0.2157, -0.4196,  ..., -0.4510, -0.5765, -0.4588],\n",
       "          ...,\n",
       "          [-0.2471, -0.2000, -0.2157,  ..., -0.3098, -0.5686, -0.7804],\n",
       "          [-0.2863, -0.2549, -0.2235,  ..., -0.2627, -0.5373, -0.7882],\n",
       "          [-0.2941, -0.2627, -0.2078,  ..., -0.2627, -0.5451, -0.7961]]]])"
      ]
     },
     "execution_count": 18,
     "metadata": {},
     "output_type": "execute_result"
    }
   ],
   "source": [
    "inputs"
   ]
  },
  {
   "cell_type": "code",
   "execution_count": 19,
   "metadata": {},
   "outputs": [
    {
     "data": {
      "text/plain": [
       "tensor([3, 5, 1, 7])"
      ]
     },
     "execution_count": 19,
     "metadata": {},
     "output_type": "execute_result"
    }
   ],
   "source": [
    "labels"
   ]
  },
  {
   "cell_type": "code",
   "execution_count": null,
   "metadata": {},
   "outputs": [],
   "source": []
  }
 ],
 "metadata": {
  "accelerator": "GPU",
  "colab": {
   "name": "04-cifar10_tutorial.ipynb",
   "provenance": [
    {
     "file_id": "https://github.com/pytorch/tutorials/blob/gh-pages/_downloads/17a7c7cb80916fcdf921097825a0f562/cifar10_tutorial.ipynb",
     "timestamp": 1595133899176
    }
   ],
   "toc_visible": true
  },
  "kernelspec": {
   "display_name": "Python 3",
   "language": "python",
   "name": "python3"
  },
  "language_info": {
   "codemirror_mode": {
    "name": "ipython",
    "version": 3
   },
   "file_extension": ".py",
   "mimetype": "text/x-python",
   "name": "python",
   "nbconvert_exporter": "python",
   "pygments_lexer": "ipython3",
   "version": "3.7.6"
  },
  "widgets": {
   "application/vnd.jupyter.widget-state+json": {
    "0bc5077a08ea45ce98ced7cb3642892f": {
     "model_module": "@jupyter-widgets/controls",
     "model_name": "FloatProgressModel",
     "state": {
      "_dom_classes": [],
      "_model_module": "@jupyter-widgets/controls",
      "_model_module_version": "1.5.0",
      "_model_name": "FloatProgressModel",
      "_view_count": null,
      "_view_module": "@jupyter-widgets/controls",
      "_view_module_version": "1.5.0",
      "_view_name": "ProgressView",
      "bar_style": "success",
      "description": "",
      "description_tooltip": null,
      "layout": "IPY_MODEL_4e93d51e27734fec965917040785df06",
      "max": 1,
      "min": 0,
      "orientation": "horizontal",
      "style": "IPY_MODEL_ad0d6dc5835b45b092ad593e4c54f3a0",
      "value": 1
     }
    },
    "4e683312c9de4b4f8a2afbe2e1453cf4": {
     "model_module": "@jupyter-widgets/base",
     "model_name": "LayoutModel",
     "state": {
      "_model_module": "@jupyter-widgets/base",
      "_model_module_version": "1.2.0",
      "_model_name": "LayoutModel",
      "_view_count": null,
      "_view_module": "@jupyter-widgets/base",
      "_view_module_version": "1.2.0",
      "_view_name": "LayoutView",
      "align_content": null,
      "align_items": null,
      "align_self": null,
      "border": null,
      "bottom": null,
      "display": null,
      "flex": null,
      "flex_flow": null,
      "grid_area": null,
      "grid_auto_columns": null,
      "grid_auto_flow": null,
      "grid_auto_rows": null,
      "grid_column": null,
      "grid_gap": null,
      "grid_row": null,
      "grid_template_areas": null,
      "grid_template_columns": null,
      "grid_template_rows": null,
      "height": null,
      "justify_content": null,
      "justify_items": null,
      "left": null,
      "margin": null,
      "max_height": null,
      "max_width": null,
      "min_height": null,
      "min_width": null,
      "object_fit": null,
      "object_position": null,
      "order": null,
      "overflow": null,
      "overflow_x": null,
      "overflow_y": null,
      "padding": null,
      "right": null,
      "top": null,
      "visibility": null,
      "width": null
     }
    },
    "4e93d51e27734fec965917040785df06": {
     "model_module": "@jupyter-widgets/base",
     "model_name": "LayoutModel",
     "state": {
      "_model_module": "@jupyter-widgets/base",
      "_model_module_version": "1.2.0",
      "_model_name": "LayoutModel",
      "_view_count": null,
      "_view_module": "@jupyter-widgets/base",
      "_view_module_version": "1.2.0",
      "_view_name": "LayoutView",
      "align_content": null,
      "align_items": null,
      "align_self": null,
      "border": null,
      "bottom": null,
      "display": null,
      "flex": null,
      "flex_flow": null,
      "grid_area": null,
      "grid_auto_columns": null,
      "grid_auto_flow": null,
      "grid_auto_rows": null,
      "grid_column": null,
      "grid_gap": null,
      "grid_row": null,
      "grid_template_areas": null,
      "grid_template_columns": null,
      "grid_template_rows": null,
      "height": null,
      "justify_content": null,
      "justify_items": null,
      "left": null,
      "margin": null,
      "max_height": null,
      "max_width": null,
      "min_height": null,
      "min_width": null,
      "object_fit": null,
      "object_position": null,
      "order": null,
      "overflow": null,
      "overflow_x": null,
      "overflow_y": null,
      "padding": null,
      "right": null,
      "top": null,
      "visibility": null,
      "width": null
     }
    },
    "61570b641a5245a2be39310cb318912c": {
     "model_module": "@jupyter-widgets/controls",
     "model_name": "DescriptionStyleModel",
     "state": {
      "_model_module": "@jupyter-widgets/controls",
      "_model_module_version": "1.5.0",
      "_model_name": "DescriptionStyleModel",
      "_view_count": null,
      "_view_module": "@jupyter-widgets/base",
      "_view_module_version": "1.2.0",
      "_view_name": "StyleView",
      "description_width": ""
     }
    },
    "ad0d6dc5835b45b092ad593e4c54f3a0": {
     "model_module": "@jupyter-widgets/controls",
     "model_name": "ProgressStyleModel",
     "state": {
      "_model_module": "@jupyter-widgets/controls",
      "_model_module_version": "1.5.0",
      "_model_name": "ProgressStyleModel",
      "_view_count": null,
      "_view_module": "@jupyter-widgets/base",
      "_view_module_version": "1.2.0",
      "_view_name": "StyleView",
      "bar_color": null,
      "description_width": "initial"
     }
    },
    "c765f789b9c049a5933519fe1e9b1fd9": {
     "model_module": "@jupyter-widgets/base",
     "model_name": "LayoutModel",
     "state": {
      "_model_module": "@jupyter-widgets/base",
      "_model_module_version": "1.2.0",
      "_model_name": "LayoutModel",
      "_view_count": null,
      "_view_module": "@jupyter-widgets/base",
      "_view_module_version": "1.2.0",
      "_view_name": "LayoutView",
      "align_content": null,
      "align_items": null,
      "align_self": null,
      "border": null,
      "bottom": null,
      "display": null,
      "flex": null,
      "flex_flow": null,
      "grid_area": null,
      "grid_auto_columns": null,
      "grid_auto_flow": null,
      "grid_auto_rows": null,
      "grid_column": null,
      "grid_gap": null,
      "grid_row": null,
      "grid_template_areas": null,
      "grid_template_columns": null,
      "grid_template_rows": null,
      "height": null,
      "justify_content": null,
      "justify_items": null,
      "left": null,
      "margin": null,
      "max_height": null,
      "max_width": null,
      "min_height": null,
      "min_width": null,
      "object_fit": null,
      "object_position": null,
      "order": null,
      "overflow": null,
      "overflow_x": null,
      "overflow_y": null,
      "padding": null,
      "right": null,
      "top": null,
      "visibility": null,
      "width": null
     }
    },
    "da4f0a67daa84081853d0a9db6e78533": {
     "model_module": "@jupyter-widgets/controls",
     "model_name": "HTMLModel",
     "state": {
      "_dom_classes": [],
      "_model_module": "@jupyter-widgets/controls",
      "_model_module_version": "1.5.0",
      "_model_name": "HTMLModel",
      "_view_count": null,
      "_view_module": "@jupyter-widgets/controls",
      "_view_module_version": "1.5.0",
      "_view_name": "HTMLView",
      "description": "",
      "description_tooltip": null,
      "layout": "IPY_MODEL_c765f789b9c049a5933519fe1e9b1fd9",
      "placeholder": "​",
      "style": "IPY_MODEL_61570b641a5245a2be39310cb318912c",
      "value": " 170500096/? [00:07&lt;00:00, 22508670.01it/s]"
     }
    },
    "ff6dff15b6a141909a2f71cb2457efa5": {
     "model_module": "@jupyter-widgets/controls",
     "model_name": "HBoxModel",
     "state": {
      "_dom_classes": [],
      "_model_module": "@jupyter-widgets/controls",
      "_model_module_version": "1.5.0",
      "_model_name": "HBoxModel",
      "_view_count": null,
      "_view_module": "@jupyter-widgets/controls",
      "_view_module_version": "1.5.0",
      "_view_name": "HBoxView",
      "box_style": "",
      "children": [
       "IPY_MODEL_0bc5077a08ea45ce98ced7cb3642892f",
       "IPY_MODEL_da4f0a67daa84081853d0a9db6e78533"
      ],
      "layout": "IPY_MODEL_4e683312c9de4b4f8a2afbe2e1453cf4"
     }
    }
   }
  }
 },
 "nbformat": 4,
 "nbformat_minor": 1
}
